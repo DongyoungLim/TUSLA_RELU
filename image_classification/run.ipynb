{
 "cells": [
  {
   "cell_type": "code",
   "execution_count": null,
   "metadata": {},
   "outputs": [],
   "source": [
    "## SLFN\n",
    "\n",
    "!python main.py --model slfn --optimizer tusla --lr 0.5 --r .5 --beta 1e12 --total_epoch 200 --seed 111 --eta 1e-5 \n",
    "!python main.py --model slfn --optimizer adam --lr 0.001 --total_epoch 200 --seed 111 --weight_decay 1e-5\n",
    "!python main.py --model slfn --optimizer amsgrad --lr 0.001 --total_epoch 200 --seed 111 --weight_decay 1e-5\n",
    "!python main.py --model slfn --optimizer rmsprop --lr 0.001 --total_epoch 200 --seed 111 --weight_decay 1e-5"
   ]
  },
  {
   "cell_type": "code",
   "execution_count": null,
   "metadata": {},
   "outputs": [],
   "source": [
    "## TLFN\n",
    "\n",
    "!python main.py --model tlfn --optimizer tusla --lr 0.5 --r .5 --beta 1e12 --total_epoch 200 --seed 111 --eta 1e-5 \n",
    "!python main.py --model tlfn --optimizer adam --lr 0.001 --total_epoch 200 --seed 111 --weight_decay 1e-5\n",
    "!python main.py --model tlfn --optimizer amsgrad --lr 0.001 --total_epoch 200 --seed 111 --weight_decay 1e-5\n",
    "!python main.py --model tlfn --optimizer rmsprop --lr 0.001 --total_epoch 200 --seed 111 --weight_decay 1e-5"
   ]
  }
 ],
 "metadata": {
  "accelerator": "GPU",
  "colab": {
   "authorship_tag": "ABX9TyMvsuXtJpl4UzoElssADvxO",
   "mount_file_id": "1wq1c9TqWFrBPZ2I1cN1BIncMzZS7zDdP",
   "name": "run.ipynb",
   "provenance": []
  },
  "kernelspec": {
   "display_name": "Python 3",
   "language": "python",
   "name": "python3"
  },
  "language_info": {
   "codemirror_mode": {
    "name": "ipython",
    "version": 3
   },
   "file_extension": ".py",
   "mimetype": "text/x-python",
   "name": "python",
   "nbconvert_exporter": "python",
   "pygments_lexer": "ipython3",
   "version": "3.6.12"
  }
 },
 "nbformat": 4,
 "nbformat_minor": 1
}
