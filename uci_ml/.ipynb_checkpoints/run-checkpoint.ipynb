{
 "cells": [
  {
   "cell_type": "markdown",
   "metadata": {},
   "source": [
    "## Concrete"
   ]
  },
  {
   "cell_type": "code",
   "execution_count": null,
   "metadata": {},
   "outputs": [],
   "source": [
    "!python main.py --seed 111 --optimizer tusla --lr 0.5 --r 0.5 --beta 1e12 --dataset concrete --batch_size 256\n",
    "!python main.py --seed 222 --optimizer tusla --lr 0.5 --r 0.5 --beta 1e12 --dataset concrete --batch_size 256\n",
    "!python main.py --seed 333 --optimizer tusla --lr 0.5 --r 0.5 --beta 1e12 --dataset concrete --batch_size 256 \n",
    "\n",
    "!python main.py --seed 111 --optimizer adam --lr 0.001 --dataset concrete --batch_size 256\n",
    "!python main.py --seed 222 --optimizer adam --lr 0.001 --dataset concrete --batch_size 256\n",
    "!python main.py --seed 333 --optimizer adam --lr 0.001 --dataset concrete --batch_size 256 \n",
    "\n",
    "!python main.py --seed 111 --optimizer amsgrad --lr 0.001 --dataset concrete --batch_size 256\n",
    "!python main.py --seed 222 --optimizer amsgrad --lr 0.001 --dataset concrete --batch_size 256\n",
    "!python main.py --seed 333 --optimizer amsgrad --lr 0.001 --dataset concrete --batch_size 256 \n",
    "\n",
    "!python main.py --seed 111 --optimizer rmsprop --lr 0.001 --dataset concrete --batch_size 256\n",
    "!python main.py --seed 222 --optimizer rmsprop --lr 0.001 --dataset concrete --batch_size 256\n",
    "!python main.py --seed 333 --optimizer rmsprop --lr 0.001 --dataset concrete --batch_size 256"
   ]
  }
 ],
 "metadata": {
  "kernelspec": {
   "display_name": "Python 3",
   "language": "python",
   "name": "python3"
  },
  "language_info": {
   "codemirror_mode": {
    "name": "ipython",
    "version": 3
   },
   "file_extension": ".py",
   "mimetype": "text/x-python",
   "name": "python",
   "nbconvert_exporter": "python",
   "pygments_lexer": "ipython3",
   "version": "3.6.12"
  }
 },
 "nbformat": 4,
 "nbformat_minor": 5
}
